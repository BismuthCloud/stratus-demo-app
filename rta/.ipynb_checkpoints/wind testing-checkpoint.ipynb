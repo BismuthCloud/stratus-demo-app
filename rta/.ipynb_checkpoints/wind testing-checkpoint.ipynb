{
 "cells": [
  {
   "cell_type": "code",
   "execution_count": 94,
   "metadata": {},
   "outputs": [],
   "source": [
    "from netCDF4 import Dataset"
   ]
  },
  {
   "cell_type": "code",
   "execution_count": 95,
   "metadata": {},
   "outputs": [],
   "source": [
    "d=Dataset('/Users/nickgregory/Downloads/nc-ignore/wx/rta_testing/n0q_comp.nc')"
   ]
  },
  {
   "cell_type": "code",
   "execution_count": 105,
   "metadata": {},
   "outputs": [
    {
     "data": {
      "text/plain": [
       "OrderedDict([('lon', <class 'netCDF4._netCDF4.Variable'>\n",
       "              float32 lon(lon)\n",
       "                  units: degree_east\n",
       "                  long_name: longitude\n",
       "              unlimited dimensions: \n",
       "              current shape = (12200,)\n",
       "              filling on, default _FillValue of 9.969209968386869e+36 used),\n",
       "             ('lat', <class 'netCDF4._netCDF4.Variable'>\n",
       "              float32 lat(lat)\n",
       "                  units: degree_north\n",
       "                  long_name: latitude\n",
       "              unlimited dimensions: \n",
       "              current shape = (5400,)\n",
       "              filling on, default _FillValue of 9.969209968386869e+36 used),\n",
       "             ('composite_n0q', <class 'netCDF4._netCDF4.Variable'>\n",
       "              float64 composite_n0q(lat, lon)\n",
       "                  _FillValue: 1e+20\n",
       "                  units: dBZ\n",
       "                  long_name: reflectivity\n",
       "                  coordinates: lon lat\n",
       "              unlimited dimensions: \n",
       "              current shape = (5400, 12200)\n",
       "              filling on)])"
      ]
     },
     "execution_count": 105,
     "metadata": {},
     "output_type": "execute_result"
    }
   ],
   "source": [
    "rad.variables"
   ]
  },
  {
   "cell_type": "code",
   "execution_count": 106,
   "metadata": {},
   "outputs": [],
   "source": [
    "n0q=rad.variables['composite_n0q']"
   ]
  },
  {
   "cell_type": "code",
   "execution_count": 39,
   "metadata": {},
   "outputs": [],
   "source": [
    "import pygrib"
   ]
  },
  {
   "cell_type": "code",
   "execution_count": 40,
   "metadata": {},
   "outputs": [],
   "source": [
    "hrrr = pygrib.open('/Users/nickgregory/Downloads/nc-ignore/wx/rta_testing/hrrr.t01z.wrfsubhf01.grib2')"
   ]
  },
  {
   "cell_type": "code",
   "execution_count": 41,
   "metadata": {},
   "outputs": [
    {
     "data": {
      "text/plain": [
       "[(9:U component of wind:m s**-1 (instant):lambert:heightAboveGround:level 80 m:fcst time 15 mins:from 201807040100,\n",
       "  10:V component of wind:m s**-1 (instant):lambert:heightAboveGround:level 80 m:fcst time 15 mins:from 201807040100),\n",
       " (50:U component of wind:m s**-1 (instant):lambert:heightAboveGround:level 80 m:fcst time 30 mins:from 201807040100,\n",
       "  51:V component of wind:m s**-1 (instant):lambert:heightAboveGround:level 80 m:fcst time 30 mins:from 201807040100),\n",
       " (91:U component of wind:m s**-1 (instant):lambert:heightAboveGround:level 80 m:fcst time 45 mins:from 201807040100,\n",
       "  92:V component of wind:m s**-1 (instant):lambert:heightAboveGround:level 80 m:fcst time 45 mins:from 201807040100),\n",
       " (132:U component of wind:m s**-1 (instant):lambert:heightAboveGround:level 80 m:fcst time 1 mins:from 201807040100,\n",
       "  133:V component of wind:m s**-1 (instant):lambert:heightAboveGround:level 80 m:fcst time 1 mins:from 201807040100)]"
      ]
     },
     "execution_count": 41,
     "metadata": {},
     "output_type": "execute_result"
    }
   ],
   "source": [
    "list(zip(hrrr.select(name='U component of wind'), hrrr.select(name='V component of wind')))"
   ]
  },
  {
   "cell_type": "code",
   "execution_count": 42,
   "metadata": {},
   "outputs": [],
   "source": [
    "STEP_INTERVAL = 60"
   ]
  },
  {
   "cell_type": "code",
   "execution_count": 43,
   "metadata": {},
   "outputs": [],
   "source": [
    "t = 0"
   ]
  },
  {
   "cell_type": "code",
   "execution_count": 108,
   "metadata": {},
   "outputs": [],
   "source": [
    "rad_coords = [(rad.variables['lat'][0].data, rad.variables['lon'][0].data), (rad.variables['lat'][-1].data, rad.variables['lon'][-1].data)]"
   ]
  },
  {
   "cell_type": "code",
   "execution_count": 73,
   "metadata": {},
   "outputs": [
    {
     "data": {
      "text/plain": [
       "[(array(23., dtype=float32), array(-126., dtype=float32)),\n",
       " (array(49.995, dtype=float32), array(-65.005, dtype=float32))]"
      ]
     },
     "execution_count": 73,
     "metadata": {},
     "output_type": "execute_result"
    }
   ],
   "source": [
    "rad_coords"
   ]
  },
  {
   "cell_type": "code",
   "execution_count": 77,
   "metadata": {},
   "outputs": [],
   "source": [
    "hrrr_lats, hrrr_lons = hrrr.select(name='U component of wind')[0].latlons()"
   ]
  },
  {
   "cell_type": "code",
   "execution_count": 78,
   "metadata": {},
   "outputs": [],
   "source": [
    "hrrr_coords = [(hrrr_lats[0][0], hrrr_lons[0][0]), (hrrr_lats[-1][-1], hrrr_lons[-1][-1])]"
   ]
  },
  {
   "cell_type": "code",
   "execution_count": 79,
   "metadata": {},
   "outputs": [
    {
     "data": {
      "text/plain": [
       "[(21.138123000000004, -122.71952799999997),\n",
       " (47.84219502248869, -60.91719277183784)]"
      ]
     },
     "execution_count": 79,
     "metadata": {},
     "output_type": "execute_result"
    }
   ],
   "source": [
    "hrrr_coords"
   ]
  },
  {
   "cell_type": "code",
   "execution_count": 103,
   "metadata": {},
   "outputs": [
    {
     "data": {
      "text/plain": [
       "array(-125.5, dtype=float32)"
      ]
     },
     "execution_count": 103,
     "metadata": {},
     "output_type": "execute_result"
    }
   ],
   "source": [
    "rad.variables['lon'][100].data"
   ]
  },
  {
   "cell_type": "code",
   "execution_count": null,
   "metadata": {},
   "outputs": [],
   "source": []
  }
 ],
 "metadata": {
  "kernelspec": {
   "display_name": "Python 3",
   "language": "python",
   "name": "python3"
  },
  "language_info": {
   "codemirror_mode": {
    "name": "ipython",
    "version": 3
   },
   "file_extension": ".py",
   "mimetype": "text/x-python",
   "name": "python",
   "nbconvert_exporter": "python",
   "pygments_lexer": "ipython3",
   "version": "3.6.5"
  }
 },
 "nbformat": 4,
 "nbformat_minor": 2
}
